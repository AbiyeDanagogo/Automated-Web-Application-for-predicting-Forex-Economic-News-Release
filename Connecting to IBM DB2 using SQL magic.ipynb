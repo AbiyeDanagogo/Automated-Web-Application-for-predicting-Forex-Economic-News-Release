{
 "cells": [
  {
   "cell_type": "code",
   "execution_count": 117,
   "metadata": {},
   "outputs": [],
   "source": [
    "#!pip install sqlalchemy==1.3.9\n",
    "#!pip install ibm_db_sa\n",
    "#!pip install ipython-sql\n",
    "import pandas\n",
    "import datetime"
   ]
  },
  {
   "cell_type": "code",
   "execution_count": 74,
   "metadata": {},
   "outputs": [
    {
     "name": "stdout",
     "output_type": "stream",
     "text": [
      "The sql extension is already loaded. To reload it, use:\n",
      "  %reload_ext sql\n"
     ]
    }
   ],
   "source": [
    "%load_ext sql"
   ]
  },
  {
   "cell_type": "code",
   "execution_count": 75,
   "metadata": {},
   "outputs": [
    {
     "name": "stdout",
     "output_type": "stream",
     "text": [
      "DB2/LINUXX8664\n"
     ]
    }
   ],
   "source": [
    "#Create database connection\n",
    "\n",
    "%sql ibm_db_sa://blg11630:jsnv%2Bw47652s064m@dashdb-txn-sbox-yp-dal09-04.services.dal.bluemix.net:50000/BLUDB"
   ]
  },
  {
   "cell_type": "code",
   "execution_count": 4,
   "metadata": {},
   "outputs": [
    {
     "name": "stdout",
     "output_type": "stream",
     "text": [
      " * ibm_db_sa://blg11630:***@dashdb-txn-sbox-yp-dal09-04.services.dal.bluemix.net:50000/BLUDB\n",
      "Done.\n"
     ]
    },
    {
     "data": {
      "text/html": [
       "<table>\n",
       "    <tr>\n",
       "        <th>tabschema</th>\n",
       "        <th>tabname</th>\n",
       "        <th>create_time</th>\n",
       "    </tr>\n",
       "    <tr>\n",
       "        <td>BLG11630</td>\n",
       "        <td>CENSUS_DATA</td>\n",
       "        <td>2021-05-31 20:48:27.134126</td>\n",
       "    </tr>\n",
       "    <tr>\n",
       "        <td>BLG11630</td>\n",
       "        <td>CHICAGO_PUBLIC_SCHOOLS</td>\n",
       "        <td>2021-05-31 20:50:10.198124</td>\n",
       "    </tr>\n",
       "    <tr>\n",
       "        <td>BLG11630</td>\n",
       "        <td>CHICAGO_CRIME_DATA</td>\n",
       "        <td>2021-05-31 20:51:23.002158</td>\n",
       "    </tr>\n",
       "    <tr>\n",
       "        <td>BLG11630</td>\n",
       "        <td>US_FOMC_RATES</td>\n",
       "        <td>2021-06-02 14:51:56.612101</td>\n",
       "    </tr>\n",
       "    <tr>\n",
       "        <td>BLG11630</td>\n",
       "        <td>US_ISM_MANUFACTURING_PMI</td>\n",
       "        <td>2021-06-02 14:53:46.824188</td>\n",
       "    </tr>\n",
       "    <tr>\n",
       "        <td>BLG11630</td>\n",
       "        <td>US_CPI</td>\n",
       "        <td>2021-06-02 14:49:53.314324</td>\n",
       "    </tr>\n",
       "    <tr>\n",
       "        <td>BLG11630</td>\n",
       "        <td>US_ISM_SERVICES_PMI</td>\n",
       "        <td>2021-06-02 14:54:59.504757</td>\n",
       "    </tr>\n",
       "    <tr>\n",
       "        <td>BLG11630</td>\n",
       "        <td>US_NFP_RATES</td>\n",
       "        <td>2021-06-02 14:55:56.584638</td>\n",
       "    </tr>\n",
       "    <tr>\n",
       "        <td>BLG11630</td>\n",
       "        <td>US_TRADE_BALANCE</td>\n",
       "        <td>2021-06-02 14:57:34.241315</td>\n",
       "    </tr>\n",
       "    <tr>\n",
       "        <td>BLG11630</td>\n",
       "        <td>US_RETAIL_SALES</td>\n",
       "        <td>2021-06-02 14:58:36.464754</td>\n",
       "    </tr>\n",
       "    <tr>\n",
       "        <td>BLG11630</td>\n",
       "        <td>TEST_CPI</td>\n",
       "        <td>2021-06-03 08:52:19.647627</td>\n",
       "    </tr>\n",
       "</table>"
      ],
      "text/plain": [
       "[('BLG11630', 'CENSUS_DATA', datetime.datetime(2021, 5, 31, 20, 48, 27, 134126)),\n",
       " ('BLG11630', 'CHICAGO_PUBLIC_SCHOOLS', datetime.datetime(2021, 5, 31, 20, 50, 10, 198124)),\n",
       " ('BLG11630', 'CHICAGO_CRIME_DATA', datetime.datetime(2021, 5, 31, 20, 51, 23, 2158)),\n",
       " ('BLG11630', 'US_FOMC_RATES', datetime.datetime(2021, 6, 2, 14, 51, 56, 612101)),\n",
       " ('BLG11630', 'US_ISM_MANUFACTURING_PMI', datetime.datetime(2021, 6, 2, 14, 53, 46, 824188)),\n",
       " ('BLG11630', 'US_CPI', datetime.datetime(2021, 6, 2, 14, 49, 53, 314324)),\n",
       " ('BLG11630', 'US_ISM_SERVICES_PMI', datetime.datetime(2021, 6, 2, 14, 54, 59, 504757)),\n",
       " ('BLG11630', 'US_NFP_RATES', datetime.datetime(2021, 6, 2, 14, 55, 56, 584638)),\n",
       " ('BLG11630', 'US_TRADE_BALANCE', datetime.datetime(2021, 6, 2, 14, 57, 34, 241315)),\n",
       " ('BLG11630', 'US_RETAIL_SALES', datetime.datetime(2021, 6, 2, 14, 58, 36, 464754)),\n",
       " ('BLG11630', 'TEST_CPI', datetime.datetime(2021, 6, 3, 8, 52, 19, 647627))]"
      ]
     },
     "execution_count": 4,
     "metadata": {},
     "output_type": "execute_result"
    }
   ],
   "source": [
    "#Showing all the tables in the database\n",
    "\n",
    "%sql select TABSCHEMA, TABNAME, CREATE_TIME from SYSCAT.TABLES \\\n",
    "      where TABSCHEMA not in ('SYSIBM', 'SYSCAT', 'SYSSTAT', 'SYSIBMADM', 'SYSTOOLS', 'SYSPUBLIC')"
   ]
  },
  {
   "cell_type": "code",
   "execution_count": 5,
   "metadata": {},
   "outputs": [
    {
     "name": "stdout",
     "output_type": "stream",
     "text": [
      " * ibm_db_sa://blg11630:***@dashdb-txn-sbox-yp-dal09-04.services.dal.bluemix.net:50000/BLUDB\n",
      "Done.\n"
     ]
    },
    {
     "data": {
      "text/html": [
       "<div>\n",
       "<style scoped>\n",
       "    .dataframe tbody tr th:only-of-type {\n",
       "        vertical-align: middle;\n",
       "    }\n",
       "\n",
       "    .dataframe tbody tr th {\n",
       "        vertical-align: top;\n",
       "    }\n",
       "\n",
       "    .dataframe thead th {\n",
       "        text-align: right;\n",
       "    }\n",
       "</style>\n",
       "<table border=\"1\" class=\"dataframe\">\n",
       "  <thead>\n",
       "    <tr style=\"text-align: right;\">\n",
       "      <th></th>\n",
       "      <th>DATE</th>\n",
       "      <th>VALUE</th>\n",
       "    </tr>\n",
       "  </thead>\n",
       "  <tbody>\n",
       "    <tr>\n",
       "      <th>0</th>\n",
       "      <td>2021-05-12</td>\n",
       "      <td>0.008</td>\n",
       "    </tr>\n",
       "    <tr>\n",
       "      <th>1</th>\n",
       "      <td>2021-04-13</td>\n",
       "      <td>0.006</td>\n",
       "    </tr>\n",
       "    <tr>\n",
       "      <th>2</th>\n",
       "      <td>2021-03-10</td>\n",
       "      <td>0.004</td>\n",
       "    </tr>\n",
       "    <tr>\n",
       "      <th>3</th>\n",
       "      <td>2021-02-10</td>\n",
       "      <td>0.003</td>\n",
       "    </tr>\n",
       "    <tr>\n",
       "      <th>4</th>\n",
       "      <td>2021-01-13</td>\n",
       "      <td>0.004</td>\n",
       "    </tr>\n",
       "  </tbody>\n",
       "</table>\n",
       "</div>"
      ],
      "text/plain": [
       "         DATE  VALUE\n",
       "0  2021-05-12  0.008\n",
       "1  2021-04-13  0.006\n",
       "2  2021-03-10  0.004\n",
       "3  2021-02-10  0.003\n",
       "4  2021-01-13  0.004"
      ]
     },
     "execution_count": 5,
     "metadata": {},
     "output_type": "execute_result"
    }
   ],
   "source": [
    "#Showing the first five rows of TEST_CPI table after converting to Pandas Dataframe\n",
    "#TEST_CPI is a table currently used ONLY for the purpose of testing the codes\n",
    "#Disregard it for the Forex Factory project.\n",
    "#Also Disregard Census_data, Chicago_public_schools and Chicago_Crime_Data Tables for the purpose of the forex factory project.\n",
    "\n",
    "pd = %sql select * from TEST_CPI\n",
    "pd.DataFrame().head()"
   ]
  },
  {
   "cell_type": "code",
   "execution_count": 96,
   "metadata": {},
   "outputs": [
    {
     "name": "stdout",
     "output_type": "stream",
     "text": [
      " * ibm_db_sa://blg11630:***@dashdb-txn-sbox-yp-dal09-04.services.dal.bluemix.net:50000/BLUDB\n",
      "2 rows affected.\n"
     ]
    },
    {
     "data": {
      "text/plain": [
       "[]"
      ]
     },
     "execution_count": 96,
     "metadata": {},
     "output_type": "execute_result"
    }
   ],
   "source": [
    "#Updating the database\n",
    "\n",
    "%sql INSERT INTO TEST_CPI VALUES ('2021-06-03', 0.005), ('2021-06-01', 0.007)"
   ]
  },
  {
   "cell_type": "code",
   "execution_count": 97,
   "metadata": {},
   "outputs": [
    {
     "name": "stdout",
     "output_type": "stream",
     "text": [
      " * ibm_db_sa://blg11630:***@dashdb-txn-sbox-yp-dal09-04.services.dal.bluemix.net:50000/BLUDB\n",
      "Done.\n"
     ]
    },
    {
     "data": {
      "text/html": [
       "<div>\n",
       "<style scoped>\n",
       "    .dataframe tbody tr th:only-of-type {\n",
       "        vertical-align: middle;\n",
       "    }\n",
       "\n",
       "    .dataframe tbody tr th {\n",
       "        vertical-align: top;\n",
       "    }\n",
       "\n",
       "    .dataframe thead th {\n",
       "        text-align: right;\n",
       "    }\n",
       "</style>\n",
       "<table border=\"1\" class=\"dataframe\">\n",
       "  <thead>\n",
       "    <tr style=\"text-align: right;\">\n",
       "      <th></th>\n",
       "      <th>DATE</th>\n",
       "      <th>VALUE</th>\n",
       "    </tr>\n",
       "  </thead>\n",
       "  <tbody>\n",
       "    <tr>\n",
       "      <th>0</th>\n",
       "      <td>2021-06-03</td>\n",
       "      <td>0.005</td>\n",
       "    </tr>\n",
       "    <tr>\n",
       "      <th>1</th>\n",
       "      <td>2021-06-01</td>\n",
       "      <td>0.007</td>\n",
       "    </tr>\n",
       "    <tr>\n",
       "      <th>2</th>\n",
       "      <td>2021-06-03</td>\n",
       "      <td>0.005</td>\n",
       "    </tr>\n",
       "    <tr>\n",
       "      <th>3</th>\n",
       "      <td>2021-06-01</td>\n",
       "      <td>0.007</td>\n",
       "    </tr>\n",
       "    <tr>\n",
       "      <th>4</th>\n",
       "      <td>2021-05-12</td>\n",
       "      <td>0.008</td>\n",
       "    </tr>\n",
       "    <tr>\n",
       "      <th>5</th>\n",
       "      <td>2021-04-13</td>\n",
       "      <td>0.006</td>\n",
       "    </tr>\n",
       "    <tr>\n",
       "      <th>6</th>\n",
       "      <td>2021-03-10</td>\n",
       "      <td>0.004</td>\n",
       "    </tr>\n",
       "    <tr>\n",
       "      <th>7</th>\n",
       "      <td>2021-02-10</td>\n",
       "      <td>0.003</td>\n",
       "    </tr>\n",
       "    <tr>\n",
       "      <th>8</th>\n",
       "      <td>2021-01-13</td>\n",
       "      <td>0.004</td>\n",
       "    </tr>\n",
       "    <tr>\n",
       "      <th>9</th>\n",
       "      <td>2020-12-10</td>\n",
       "      <td>0.002</td>\n",
       "    </tr>\n",
       "  </tbody>\n",
       "</table>\n",
       "</div>"
      ],
      "text/plain": [
       "         DATE  VALUE\n",
       "0  2021-06-03  0.005\n",
       "1  2021-06-01  0.007\n",
       "2  2021-06-03  0.005\n",
       "3  2021-06-01  0.007\n",
       "4  2021-05-12  0.008\n",
       "5  2021-04-13  0.006\n",
       "6  2021-03-10  0.004\n",
       "7  2021-02-10  0.003\n",
       "8  2021-01-13  0.004\n",
       "9  2020-12-10  0.002"
      ]
     },
     "execution_count": 97,
     "metadata": {},
     "output_type": "execute_result"
    }
   ],
   "source": [
    "#showing the result of the updated database\n",
    "result = %sql Select * from TEST_CPI\n",
    "result.DataFrame()"
   ]
  },
  {
   "cell_type": "code",
   "execution_count": 19,
   "metadata": {},
   "outputs": [],
   "source": [
    "#Demonstrating how to add from pandas dataframe to database using variables\n",
    "hello = {'Title': 'Final Manufacturing PMI',\n",
    "  'Date': datetime.datetime(2021, 5, 3, 0, 0),\n",
    "  'Actual': '60.5'}, {'Title': 'ISM Manufacturing PMI',\n",
    "  'Date': datetime.datetime(2021, 5, 3, 0, 0),\n",
    "  'Actual': '60.7'}, {'Title': 'Trade Balance',\n",
    "  'Date': datetime.datetime(2021, 5, 4, 0, 0),\n",
    "  'Actual': '-74.4B'}\n",
    "\n",
    "test = pandas.DataFrame(hello)"
   ]
  },
  {
   "cell_type": "code",
   "execution_count": 119,
   "metadata": {},
   "outputs": [],
   "source": [
    "test_trade_balance = test.loc[test.Title == 'Trade Balance']\n",
    "tb_date = test_trade_balance['Date']\n",
    "tb_value = test_trade_balance['Actual']\n",
    "\n",
    "#removing all the unwanted symbols\n",
    "test_value = float(str(list(tb_value)).strip('B[]\\''))\n",
    "test_date = str(list(tb_date)).strip('Timestamp([])\\'').split(' ')[0]"
   ]
  },
  {
   "cell_type": "code",
   "execution_count": 120,
   "metadata": {},
   "outputs": [
    {
     "name": "stdout",
     "output_type": "stream",
     "text": [
      " * ibm_db_sa://blg11630:***@dashdb-txn-sbox-yp-dal09-04.services.dal.bluemix.net:50000/BLUDB\n",
      "1 rows affected.\n"
     ]
    },
    {
     "data": {
      "text/plain": [
       "[]"
      ]
     },
     "execution_count": 120,
     "metadata": {},
     "output_type": "execute_result"
    }
   ],
   "source": [
    "#Adding from pandas dataframe to database using variables\n",
    "\n",
    "%sql INSERT INTO TEST_CPI VALUES (:test_date, :test_value)"
   ]
  },
  {
   "cell_type": "code",
   "execution_count": 121,
   "metadata": {},
   "outputs": [
    {
     "name": "stdout",
     "output_type": "stream",
     "text": [
      " * ibm_db_sa://blg11630:***@dashdb-txn-sbox-yp-dal09-04.services.dal.bluemix.net:50000/BLUDB\n",
      "Done.\n"
     ]
    },
    {
     "data": {
      "text/html": [
       "<div>\n",
       "<style scoped>\n",
       "    .dataframe tbody tr th:only-of-type {\n",
       "        vertical-align: middle;\n",
       "    }\n",
       "\n",
       "    .dataframe tbody tr th {\n",
       "        vertical-align: top;\n",
       "    }\n",
       "\n",
       "    .dataframe thead th {\n",
       "        text-align: right;\n",
       "    }\n",
       "</style>\n",
       "<table border=\"1\" class=\"dataframe\">\n",
       "  <thead>\n",
       "    <tr style=\"text-align: right;\">\n",
       "      <th></th>\n",
       "      <th>DATE</th>\n",
       "      <th>VALUE</th>\n",
       "    </tr>\n",
       "  </thead>\n",
       "  <tbody>\n",
       "    <tr>\n",
       "      <th>0</th>\n",
       "      <td>2021-06-03</td>\n",
       "      <td>0.005</td>\n",
       "    </tr>\n",
       "    <tr>\n",
       "      <th>1</th>\n",
       "      <td>2021-06-01</td>\n",
       "      <td>0.007</td>\n",
       "    </tr>\n",
       "    <tr>\n",
       "      <th>2</th>\n",
       "      <td>2021-06-03</td>\n",
       "      <td>0.005</td>\n",
       "    </tr>\n",
       "    <tr>\n",
       "      <th>3</th>\n",
       "      <td>2021-06-01</td>\n",
       "      <td>0.007</td>\n",
       "    </tr>\n",
       "    <tr>\n",
       "      <th>4</th>\n",
       "      <td>2021-05-04</td>\n",
       "      <td>-74.400</td>\n",
       "    </tr>\n",
       "    <tr>\n",
       "      <th>5</th>\n",
       "      <td>2021-05-04</td>\n",
       "      <td>-74.400</td>\n",
       "    </tr>\n",
       "    <tr>\n",
       "      <th>6</th>\n",
       "      <td>2021-05-04</td>\n",
       "      <td>-74.400</td>\n",
       "    </tr>\n",
       "    <tr>\n",
       "      <th>7</th>\n",
       "      <td>2021-05-04</td>\n",
       "      <td>-74.400</td>\n",
       "    </tr>\n",
       "    <tr>\n",
       "      <th>8</th>\n",
       "      <td>2021-05-04</td>\n",
       "      <td>-74.400</td>\n",
       "    </tr>\n",
       "    <tr>\n",
       "      <th>9</th>\n",
       "      <td>2021-05-12</td>\n",
       "      <td>0.008</td>\n",
       "    </tr>\n",
       "    <tr>\n",
       "      <th>10</th>\n",
       "      <td>2021-04-13</td>\n",
       "      <td>0.006</td>\n",
       "    </tr>\n",
       "    <tr>\n",
       "      <th>11</th>\n",
       "      <td>2021-03-10</td>\n",
       "      <td>0.004</td>\n",
       "    </tr>\n",
       "    <tr>\n",
       "      <th>12</th>\n",
       "      <td>2021-02-10</td>\n",
       "      <td>0.003</td>\n",
       "    </tr>\n",
       "    <tr>\n",
       "      <th>13</th>\n",
       "      <td>2021-01-13</td>\n",
       "      <td>0.004</td>\n",
       "    </tr>\n",
       "    <tr>\n",
       "      <th>14</th>\n",
       "      <td>2020-12-10</td>\n",
       "      <td>0.002</td>\n",
       "    </tr>\n",
       "  </tbody>\n",
       "</table>\n",
       "</div>"
      ],
      "text/plain": [
       "          DATE    VALUE\n",
       "0   2021-06-03    0.005\n",
       "1   2021-06-01    0.007\n",
       "2   2021-06-03    0.005\n",
       "3   2021-06-01    0.007\n",
       "4   2021-05-04  -74.400\n",
       "5   2021-05-04  -74.400\n",
       "6   2021-05-04  -74.400\n",
       "7   2021-05-04  -74.400\n",
       "8   2021-05-04  -74.400\n",
       "9   2021-05-12    0.008\n",
       "10  2021-04-13    0.006\n",
       "11  2021-03-10    0.004\n",
       "12  2021-02-10    0.003\n",
       "13  2021-01-13    0.004\n",
       "14  2020-12-10    0.002"
      ]
     },
     "execution_count": 121,
     "metadata": {},
     "output_type": "execute_result"
    }
   ],
   "source": [
    "#showing updated results\n",
    "\n",
    "result = %sql Select * from TEST_CPI\n",
    "result.DataFrame()"
   ]
  }
 ],
 "metadata": {
  "kernelspec": {
   "display_name": "Python 3",
   "language": "python",
   "name": "python3"
  },
  "language_info": {
   "codemirror_mode": {
    "name": "ipython",
    "version": 3
   },
   "file_extension": ".py",
   "mimetype": "text/x-python",
   "name": "python",
   "nbconvert_exporter": "python",
   "pygments_lexer": "ipython3",
   "version": "3.8.5"
  }
 },
 "nbformat": 4,
 "nbformat_minor": 4
}
