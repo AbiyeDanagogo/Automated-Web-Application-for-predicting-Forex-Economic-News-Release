{
 "cells": [
  {
   "cell_type": "code",
   "execution_count": 13,
   "metadata": {},
   "outputs": [],
   "source": [
    "news_dict = {'FOMC': ['Manufacturing PMI', 'Non-Manufacturing PMI', 'CPI', 'Retail Sales', 'Trading Balance','Non-Farm Payroll'],\n",
    "             'Non-Farm Payroll' : ['Manufacturing PMI', 'Non-Manufacturing PMI', 'CPI', 'Retail Sales', 'Trading Balance', 'FOMC Rates']\n",
    "            }"
   ]
  },
  {
   "cell_type": "code",
   "execution_count": 1,
   "metadata": {},
   "outputs": [],
   "source": [
    "from bs4 import BeautifulSoup as soup\n",
    "from selenium import webdriver\n",
    "from selenium.webdriver.common.keys import Keys\n",
    "from datetime import datetime\n",
    "\n",
    "\n",
    "current_month = datetime.now().month\n",
    "previous_month = ['jan', 'feb', 'mar', 'apr', 'may', 'jun', 'jul', 'aug', 'sep', 'oct', 'nov', 'dec'][current_month-2]\n",
    "\n",
    "\n",
    "my_url = 'https://www.forexfactory.com/calendar?month=' + previous_month + '.2021'\n",
    "\n",
    "\n",
    "PATH = 'C:\\Program Files (x86)\\chromedriver.exe'\n",
    "options = webdriver.ChromeOptions()\n",
    "options.add_argument(\"--disable-blink-features=AutomationControlled\")\n",
    "\n",
    "driver = webdriver.Chrome(PATH, options=options)\n",
    "driver.get(my_url)\n",
    "driver.get(driver.current_url)\n",
    "\n",
    "\n",
    "html = driver.page_source\n",
    "\n",
    "driver.quit()\n",
    "\n",
    "page_soup = soup(html, \"lxml\")"
   ]
  },
  {
   "cell_type": "code",
   "execution_count": 2,
   "metadata": {},
   "outputs": [],
   "source": [
    "initial_date = None\n",
    "initial_time = None\n",
    "\n",
    "def fill_empty(current ,initial):\n",
    "    if current != None:\n",
    "            initial = current\n",
    "    else:\n",
    "        current = initial\n",
    "    return current, initial"
   ]
  },
  {
   "cell_type": "code",
   "execution_count": 3,
   "metadata": {},
   "outputs": [],
   "source": [
    "def to_datetime(date):\n",
    "    date = date + ' ' + str(datetime.now().year)\n",
    "    return datetime.strptime(date , '%b %d %Y')"
   ]
  },
  {
   "cell_type": "code",
   "execution_count": 4,
   "metadata": {},
   "outputs": [],
   "source": [
    "news_titles = ['Manufacturing PMI', 'Non-Manufacturing PMI', 'CPI', 'Retail Sales', 'Trading Balance', 'FOMC Rates']\n",
    "expected_currency = 'USD'"
   ]
  },
  {
   "cell_type": "code",
   "execution_count": 5,
   "metadata": {},
   "outputs": [],
   "source": [
    "table = page_soup.find(\"table\", {\"class\": \"calendar__table\"})\n",
    "\n",
    "news_list = []\n",
    "\n",
    "for row in table.select('tr.calendar__row.calendar_row.calendar__row--grey'):\n",
    "    \n",
    "    date = row.select_one('span.date span')\n",
    "    date, initial_date = fill_empty(date, initial_date)\n",
    "    date = date.text\n",
    "\n",
    "    title = row.select_one('span.calendar__event-title').text\n",
    "    \n",
    "    if not any(n.lower() in title.lower() for n in news_titles):\n",
    "        continue\n",
    "        \n",
    "    currency = row.select_one('td.calendar__cell.calendar__currency.currency').text.strip()\n",
    "     \n",
    "    if currency.lower() != expected_currency.lower():\n",
    "        continue\n",
    "    \n",
    "    actual = row.select_one('td.calendar__cell.calendar__actual.actual').text\n",
    "    \n",
    "    news_list.append({'Title': title, 'Date': to_datetime(date), 'Actual': actual})\n",
    "    \n",
    "#     title_dict[title] = [actual, to_datetime(date)]\n",
    "    \n",
    "#     print(date)"
   ]
  },
  {
   "cell_type": "code",
   "execution_count": 6,
   "metadata": {},
   "outputs": [
    {
     "data": {
      "text/plain": [
       "[{'Title': 'Final Manufacturing PMI',\n",
       "  'Date': datetime.datetime(2021, 4, 1, 0, 0),\n",
       "  'Actual': '59.1'},\n",
       " {'Title': 'ISM Manufacturing PMI',\n",
       "  'Date': datetime.datetime(2021, 4, 1, 0, 0),\n",
       "  'Actual': '64.7'},\n",
       " {'Title': 'CPI m/m',\n",
       "  'Date': datetime.datetime(2021, 4, 13, 0, 0),\n",
       "  'Actual': '0.6%'},\n",
       " {'Title': 'Core CPI m/m',\n",
       "  'Date': datetime.datetime(2021, 4, 13, 0, 0),\n",
       "  'Actual': '0.3%'},\n",
       " {'Title': 'Core Retail Sales m/m',\n",
       "  'Date': datetime.datetime(2021, 4, 15, 0, 0),\n",
       "  'Actual': '8.4%'},\n",
       " {'Title': 'Retail Sales m/m',\n",
       "  'Date': datetime.datetime(2021, 4, 15, 0, 0),\n",
       "  'Actual': '9.8%'},\n",
       " {'Title': 'Flash Manufacturing PMI',\n",
       "  'Date': datetime.datetime(2021, 4, 23, 0, 0),\n",
       "  'Actual': '60.6'}]"
      ]
     },
     "execution_count": 6,
     "metadata": {},
     "output_type": "execute_result"
    }
   ],
   "source": [
    "news_list"
   ]
  },
  {
   "cell_type": "code",
   "execution_count": 7,
   "metadata": {},
   "outputs": [],
   "source": [
    "import pandas as pd"
   ]
  },
  {
   "cell_type": "code",
   "execution_count": 11,
   "metadata": {},
   "outputs": [
    {
     "data": {
      "text/html": [
       "<div>\n",
       "<style scoped>\n",
       "    .dataframe tbody tr th:only-of-type {\n",
       "        vertical-align: middle;\n",
       "    }\n",
       "\n",
       "    .dataframe tbody tr th {\n",
       "        vertical-align: top;\n",
       "    }\n",
       "\n",
       "    .dataframe thead th {\n",
       "        text-align: right;\n",
       "    }\n",
       "</style>\n",
       "<table border=\"1\" class=\"dataframe\">\n",
       "  <thead>\n",
       "    <tr style=\"text-align: right;\">\n",
       "      <th></th>\n",
       "      <th>Title</th>\n",
       "      <th>Date</th>\n",
       "      <th>Actual</th>\n",
       "    </tr>\n",
       "  </thead>\n",
       "  <tbody>\n",
       "    <tr>\n",
       "      <th>0</th>\n",
       "      <td>Final Manufacturing PMI</td>\n",
       "      <td>2021-04-01</td>\n",
       "      <td>59.1</td>\n",
       "    </tr>\n",
       "    <tr>\n",
       "      <th>1</th>\n",
       "      <td>ISM Manufacturing PMI</td>\n",
       "      <td>2021-04-01</td>\n",
       "      <td>64.7</td>\n",
       "    </tr>\n",
       "    <tr>\n",
       "      <th>2</th>\n",
       "      <td>CPI m/m</td>\n",
       "      <td>2021-04-13</td>\n",
       "      <td>0.6%</td>\n",
       "    </tr>\n",
       "    <tr>\n",
       "      <th>3</th>\n",
       "      <td>Core CPI m/m</td>\n",
       "      <td>2021-04-13</td>\n",
       "      <td>0.3%</td>\n",
       "    </tr>\n",
       "    <tr>\n",
       "      <th>4</th>\n",
       "      <td>Core Retail Sales m/m</td>\n",
       "      <td>2021-04-15</td>\n",
       "      <td>8.4%</td>\n",
       "    </tr>\n",
       "    <tr>\n",
       "      <th>5</th>\n",
       "      <td>Retail Sales m/m</td>\n",
       "      <td>2021-04-15</td>\n",
       "      <td>9.8%</td>\n",
       "    </tr>\n",
       "    <tr>\n",
       "      <th>6</th>\n",
       "      <td>Flash Manufacturing PMI</td>\n",
       "      <td>2021-04-23</td>\n",
       "      <td>60.6</td>\n",
       "    </tr>\n",
       "  </tbody>\n",
       "</table>\n",
       "</div>"
      ],
      "text/plain": [
       "                     Title       Date Actual\n",
       "0  Final Manufacturing PMI 2021-04-01   59.1\n",
       "1    ISM Manufacturing PMI 2021-04-01   64.7\n",
       "2                  CPI m/m 2021-04-13   0.6%\n",
       "3             Core CPI m/m 2021-04-13   0.3%\n",
       "4    Core Retail Sales m/m 2021-04-15   8.4%\n",
       "5         Retail Sales m/m 2021-04-15   9.8%\n",
       "6  Flash Manufacturing PMI 2021-04-23   60.6"
      ]
     },
     "execution_count": 11,
     "metadata": {},
     "output_type": "execute_result"
    }
   ],
   "source": [
    "pd.DataFrame(news_list)"
   ]
  },
  {
   "cell_type": "code",
   "execution_count": null,
   "metadata": {},
   "outputs": [],
   "source": []
  }
 ],
 "metadata": {
  "kernelspec": {
   "display_name": "Python 3",
   "language": "python",
   "name": "python3"
  },
  "language_info": {
   "codemirror_mode": {
    "name": "ipython",
    "version": 3
   },
   "file_extension": ".py",
   "mimetype": "text/x-python",
   "name": "python",
   "nbconvert_exporter": "python",
   "pygments_lexer": "ipython3",
   "version": "3.8.3"
  }
 },
 "nbformat": 4,
 "nbformat_minor": 4
}
