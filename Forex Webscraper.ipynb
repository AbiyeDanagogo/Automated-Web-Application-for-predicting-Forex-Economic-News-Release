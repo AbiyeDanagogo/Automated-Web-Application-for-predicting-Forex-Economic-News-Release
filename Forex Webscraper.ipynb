{
 "cells": [
  {
   "cell_type": "markdown",
   "metadata": {},
   "source": [
    "<div style=\"text-align: justify\">\n",
    "    <h1> Webscraping </h1> \n",
    "    \n",
    "In this project we need to gather data to feed into our machine learning model in order to make predictions. This is where web scraping comes in. Web scraping is the process of extracting content and data from a website. There are various webscraping tools to choose from. We chose Selenium for our project because of its ability to interact with web elements and scrape sites with dynamic content. The data was gotten from a website known as forex factory, which focuses on monthly economic news releases of different economies. After extraction the data is inserted into a database so that it can be easily called up from our machine learning model.\n",
    "\n",
    " </div>"
   ]
  },
  {
   "cell_type": "code",
   "execution_count": 1,
   "metadata": {},
   "outputs": [
    {
     "name": "stdout",
     "output_type": "stream",
     "text": [
      "DB2/LINUXX8664\n"
     ]
    }
   ],
   "source": [
    "# Import all modules and load the database\n",
    "from selenium import webdriver\n",
    "from selenium.webdriver.common.keys import Keys\n",
    "from selenium.webdriver.common.by import By\n",
    "from selenium.webdriver.support import expected_conditions as EC\n",
    "from selenium.webdriver.support.ui import WebDriverWait\n",
    "import datetime\n",
    "import re\n",
    "import pandas as pd\n",
    "%load_ext sql\n",
    "%sql ibm_db_sa://"
   ]
  },
  {
   "cell_type": "markdown",
   "metadata": {},
   "source": [
    "## Initializing variables and defining functions"
   ]
  },
  {
   "cell_type": "code",
   "execution_count": 2,
   "metadata": {},
   "outputs": [],
   "source": [
    "expected_news = 'Unemployment Rate'\n",
    "expected_currency = 'USD'\n",
    "\n",
    "# Dictionary that maps the names of the news releases to their correspoonding table names in the database\n",
    "table_dict = {'Federal Funds Rate': 'US_FOMC_RATES', 'ISM Manufacturing PMI': 'US_ISM_MANUFACTURING_PMI',\n",
    "              'ISM Services PMI': 'US_ISM_SERVICES_PMI', 'CPI m/m': 'US_CPI', 'Retail Sales m/m': 'US_RETAIL_SALES',\n",
    "              'Trade Balance': 'US_TRADE_BALANCE', 'Unemployment Rate': 'US_UNEMPLOYMENT_RATES', \n",
    "              'Non-Farm Employment Change': 'US_NON_FARM_EMPLOYMENT_CHANGE', \n",
    "              'Average Hourly Earnings m/m': 'US_AVERAGE_HOURLY_EARNINGS'}\n",
    "\n",
    "# Dictionary that contains the news releases as keys and all the news releases that affects them in a list.\n",
    "news_dict = {'Federal Funds Rate': ['ISM Manufacturing PMI', 'ISM Services PMI', 'CPI m/m', 'Retail Sales m/m', 'Trade Balance','Unemployment Rate', 'Non-Farm Employment Change', 'Average Hourly Earnings m/m'],\n",
    "             'Unemployment Rate' : ['ISM Manufacturing PMI', 'ISM Services PMI', 'CPI m/m', 'Retail Sales m/m', 'Trade Balance', 'Federal Funds Rate']\n",
    "            }\n",
    "\n",
    "# Dictionary that maps the news to its future date table.\n",
    "future_dates_dict = {'Federal Funds Rate': 'US_FOMC_FUTURE_DATES', 'Unemployment Rate': 'US_NFP_FUTURE_DATES'}\n",
    "\n",
    "initial_date = ''\n",
    "initial_time = ''"
   ]
  },
  {
   "cell_type": "code",
   "execution_count": 1,
   "metadata": {},
   "outputs": [],
   "source": [
    "# Get the most recent date for the selected news release\n",
    "query = 'SELECT MAX(DATE) FROM {}'.format(table_dict[expected_news])\n",
    "previous_date = %sql $query\n",
    "previous_date = previous_date[0][0]\n",
    "previous_date"
   ]
  },
  {
   "cell_type": "code",
   "execution_count": 7,
   "metadata": {},
   "outputs": [],
   "source": [
    "# This function checks if the date cell on the table is empty.\n",
    "# If it is not empty the global variable initial_date is assigned the value 0f the date.\n",
    "# If it is empty the date is assigned to the value of the initial_date.\n",
    "def fill_empty_date(current):\n",
    "    global initial_date\n",
    "    \n",
    "    if current:\n",
    "        initial_date = current\n",
    "    else:\n",
    "        current = initial_date\n",
    "    return current[0].text\n",
    "\n",
    "# This function checks if the date cell on the table is empty.\n",
    "# If it is not empty the global variable initial_date is assigned the value 0f the date.\n",
    "# If it is empty the date is assigned to the value of the initial_date.\n",
    "def fill_empty_time(current):\n",
    "    global initial_time\n",
    "    \n",
    "    if current:\n",
    "        initial_time = current\n",
    "    else:\n",
    "        current = initial_time\n",
    "    return current\n",
    "\n",
    "# This function converts a string into a date object.\n",
    "def to_date(date):\n",
    "    if len(date) <= 6:\n",
    "        date = date + ' ' + year\n",
    "    return datetime.datetime.strptime(date , '%b %d %Y').date()\n",
    "\n",
    "# This function converts a string into a date object.\n",
    "def to_time(time):\n",
    "    try:\n",
    "        return datetime.datetime.strptime(time, '%I:%M%p').time()\n",
    "    except ValueError:\n",
    "        return None\n",
    "    \n",
    "# This function removes all characters from a string except numbers, periods and minus signs. \n",
    "#Then it converts the string into a float.\n",
    "# If there is a '%' sign it will divide the float by 100.\n",
    "def to_float(value_as_string):\n",
    "    value_as_float = float(re.sub('[^0-9.-]', '', value_as_string))\n",
    "    if '%' in value_as_string:\n",
    "        return value_as_float/100\n",
    "    return value_as_float"
   ]
  },
  {
   "cell_type": "markdown",
   "metadata": {},
   "source": [
    "## Opening the web page"
   ]
  },
  {
   "cell_type": "code",
   "execution_count": null,
   "metadata": {},
   "outputs": [],
   "source": [
    "# Open the Forex Factory website with the month and year of the previous date\n",
    "month = ['jan', 'feb', 'mar', 'apr', 'may', 'jun', 'jul', 'aug', 'sep', 'oct', 'nov', 'dec'][previous_date.month-1]\n",
    "year = str(previous_date.year)\n",
    "\n",
    "my_url = 'https://www.forexfactory.com/calendar?month=' + month + '.' + year\n",
    "\n",
    "PATH = 'C:\\Program Files (x86)\\chromedriver.exe'\n",
    "options = webdriver.ChromeOptions()\n",
    "options.add_argument('--disable-blink-features=AutomationControlled')\n",
    "\n",
    "driver = webdriver.Chrome(PATH, options=options)\n",
    "driver.get(my_url)\n",
    "driver.get(driver.current_url)"
   ]
  },
  {
   "cell_type": "markdown",
   "metadata": {},
   "source": [
    "## Finding the next release date "
   ]
  },
  {
   "cell_type": "code",
   "execution_count": 8,
   "metadata": {},
   "outputs": [
    {
     "name": "stdout",
     "output_type": "stream",
     "text": [
      "Unemployment Rate 2021-06-04\n",
      "Next release: Jul 2, 2021\n"
     ]
    }
   ],
   "source": [
    "# Find the next release date of the news we are trying to predict \n",
    "table = driver.find_element_by_class_name('calendar__table')\n",
    "\n",
    "for row in table.find_elements_by_css_selector('tr.calendar__row.calendar_row.calendar__row--grey'):\n",
    "\n",
    "    date = row.find_elements_by_css_selector('td.calendar__cell.calendar__date.date span span')\n",
    "    date = to_date(fill_empty_date(date))\n",
    "    \n",
    "    currency = row.find_element_by_css_selector('td.calendar__cell.calendar__currency.currency').text.strip()\n",
    "     \n",
    "    if currency.lower() != expected_currency.lower():\n",
    "        continue\n",
    "\n",
    "    title = row.find_element_by_css_selector('span.calendar__event-title').text\n",
    "    \n",
    "    if (title == expected_news) and (date == previous_date):\n",
    "        detail = row.find_element_by_css_selector('td.calendar__cell.calendar__detail.detail')\n",
    "        detail.click()\n",
    "        print(title, date)\n",
    "        break\n",
    "\n",
    "details_tab = WebDriverWait(driver, 20).until(EC.presence_of_element_located((By.CSS_SELECTOR, 'tr.calendar__row.calendar__details.details.calendar__details--detail.detail')))\n",
    "next_release =  details_tab.find_element_by_css_selector('a.calendarspecs__nextdetails').text\n",
    "print('Next release date: {}'.format(next_release))"
   ]
  },
  {
   "cell_type": "code",
   "execution_count": 9,
   "metadata": {},
   "outputs": [],
   "source": [
    "# Set the website to show only news releases between the previous date and next release date\n",
    "calendar_button = driver.find_element_by_css_selector('li.calendar__options.left')\n",
    "webdriver.ActionChains(driver).move_to_element(calendar_button).click(calendar_button).perform()\n",
    "\n",
    "begin_input = driver.find_element_by_name('flex[Calendar_mainCal][begindate]')\n",
    "end_input = driver.find_element_by_name('flex[Calendar_mainCal][enddate]')\n",
    "apply_button = driver.find_element_by_name('flexSettings')\n",
    "\n",
    "begin_input.clear()\n",
    "end_input.clear()\n",
    "begin_input.send_keys(previous_date.strftime('%b %d, %Y'))\n",
    "end_input.send_keys(next_release)\n",
    "\n",
    "apply_button.click()"
   ]
  },
  {
   "cell_type": "markdown",
   "metadata": {},
   "source": [
    "## Extracting the news releases"
   ]
  },
  {
   "cell_type": "code",
   "execution_count": 10,
   "metadata": {},
   "outputs": [],
   "source": [
    "# Iterate through the table and find the news releases that are used to predict the current news and append them to a list\n",
    "WebDriverWait(driver, 20).until(EC.staleness_of(table))\n",
    "table = driver.find_element_by_class_name('calendar__table')\n",
    "news_list = []\n",
    "\n",
    "for row in table.find_elements_by_css_selector('tr.calendar__row.calendar_row.calendar__row--grey'):\n",
    "    \n",
    "    date = row.find_elements_by_css_selector('td.calendar__cell.calendar__date.date span span')\n",
    "    date = to_date(fill_empty_date(date))\n",
    "    \n",
    "    time = row.find_elements_by_css_selector('td.calendar__cell.calendar__time.time')[0].text\n",
    "    time = to_time(fill_empty_time(time))\n",
    "    \n",
    "    currency = row.find_element_by_css_selector('td.calendar__cell.calendar__currency.currency').text.strip()\n",
    "     \n",
    "    if currency.lower() != expected_currency.lower():\n",
    "        continue\n",
    "        \n",
    "    title = row.find_element_by_css_selector('span.calendar__event-title').text\n",
    "    \n",
    "    if not any(n.lower() == title.lower() for n in news_dict.get(expected_news, [])):\n",
    "        continue\n",
    "    \n",
    "    value = row.find_element_by_css_selector('td.calendar__cell.calendar__actual.actual').text\n",
    "    \n",
    "    news_list.append({'TITLE': title, 'DATE': date, 'TIME': time ,'VALUE': to_float(value)})\n",
    "    \n",
    "driver.close()"
   ]
  },
  {
   "cell_type": "markdown",
   "metadata": {},
   "source": [
    "#### List of news releases"
   ]
  },
  {
   "cell_type": "code",
   "execution_count": 11,
   "metadata": {},
   "outputs": [
    {
     "data": {
      "text/html": [
       "<div>\n",
       "<style scoped>\n",
       "    .dataframe tbody tr th:only-of-type {\n",
       "        vertical-align: middle;\n",
       "    }\n",
       "\n",
       "    .dataframe tbody tr th {\n",
       "        vertical-align: top;\n",
       "    }\n",
       "\n",
       "    .dataframe thead th {\n",
       "        text-align: right;\n",
       "    }\n",
       "</style>\n",
       "<table border=\"1\" class=\"dataframe\">\n",
       "  <thead>\n",
       "    <tr style=\"text-align: right;\">\n",
       "      <th></th>\n",
       "      <th>TITLE</th>\n",
       "      <th>DATE</th>\n",
       "      <th>TIME</th>\n",
       "      <th>VALUE</th>\n",
       "    </tr>\n",
       "  </thead>\n",
       "  <tbody>\n",
       "    <tr>\n",
       "      <th>0</th>\n",
       "      <td>Trade Balance</td>\n",
       "      <td>2021-06-08</td>\n",
       "      <td>13:30:00</td>\n",
       "      <td>-68.9000</td>\n",
       "    </tr>\n",
       "    <tr>\n",
       "      <th>1</th>\n",
       "      <td>CPI m/m</td>\n",
       "      <td>2021-06-10</td>\n",
       "      <td>13:30:00</td>\n",
       "      <td>0.0060</td>\n",
       "    </tr>\n",
       "    <tr>\n",
       "      <th>2</th>\n",
       "      <td>Retail Sales m/m</td>\n",
       "      <td>2021-06-15</td>\n",
       "      <td>13:30:00</td>\n",
       "      <td>-0.0130</td>\n",
       "    </tr>\n",
       "    <tr>\n",
       "      <th>3</th>\n",
       "      <td>Federal Funds Rate</td>\n",
       "      <td>2021-06-16</td>\n",
       "      <td>19:00:00</td>\n",
       "      <td>0.0025</td>\n",
       "    </tr>\n",
       "  </tbody>\n",
       "</table>\n",
       "</div>"
      ],
      "text/plain": [
       "                TITLE        DATE      TIME    VALUE\n",
       "0       Trade Balance  2021-06-08  13:30:00 -68.9000\n",
       "1             CPI m/m  2021-06-10  13:30:00   0.0060\n",
       "2    Retail Sales m/m  2021-06-15  13:30:00  -0.0130\n",
       "3  Federal Funds Rate  2021-06-16  19:00:00   0.0025"
      ]
     },
     "execution_count": 11,
     "metadata": {},
     "output_type": "execute_result"
    }
   ],
   "source": [
    "# The news releases that were scraped from the website with their corresponding date, time and value. \n",
    "pd.DataFrame(news_list)"
   ]
  },
  {
   "cell_type": "markdown",
   "metadata": {},
   "source": [
    "## Inserting data into database"
   ]
  },
  {
   "cell_type": "code",
   "execution_count": 2,
   "metadata": {},
   "outputs": [],
   "source": [
    "# Add the scraped news releases into their corresponding tables in the database\n",
    "# Making sure to check whether the scraped news release already exists within the database\n",
    "for news in news_list:\n",
    "    query = \"SELECT DATE FROM {} WHERE DATE = '{}'\".format(table_dict[news['TITLE']], news['DATE'])\n",
    "    table_date = %sql $query\n",
    "    if len(table_date) == 0:\n",
    "        query = \"INSERT INTO {} VALUES('{}', '{}', ({}))\".format(table_dict[news['TITLE']], news['DATE'], news['TIME'], news['VALUE'])\n",
    "        print(query)\n",
    "        %sql $query"
   ]
  },
  {
   "cell_type": "code",
   "execution_count": 3,
   "metadata": {},
   "outputs": [],
   "source": [
    "query = \"DELETE FROM {}\".format(future_dates_dict[expected_news])\n",
    "%sql $query"
   ]
  },
  {
   "cell_type": "code",
   "execution_count": 4,
   "metadata": {},
   "outputs": [],
   "source": [
    "query = \"INSERT INTO {} VALUES('{}')\".format(future_dates_dict[expected_news], to_date(next_release.replace(',', '')))\n",
    "%sql $query"
   ]
  }
 ],
 "metadata": {
  "kernelspec": {
   "display_name": "Python 3",
   "language": "python",
   "name": "python3"
  },
  "language_info": {
   "codemirror_mode": {
    "name": "ipython",
    "version": 3
   },
   "file_extension": ".py",
   "mimetype": "text/x-python",
   "name": "python",
   "nbconvert_exporter": "python",
   "pygments_lexer": "ipython3",
   "version": "3.8.3"
  }
 },
 "nbformat": 4,
 "nbformat_minor": 4
}
